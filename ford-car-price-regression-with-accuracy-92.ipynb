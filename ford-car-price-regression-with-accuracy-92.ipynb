{
 "cells": [
  {
   "cell_type": "code",
   "execution_count": 1,
   "id": "7be19b64",
   "metadata": {
    "execution": {
     "iopub.execute_input": "2021-09-04T11:43:21.373054Z",
     "iopub.status.busy": "2021-09-04T11:43:21.372264Z",
     "iopub.status.idle": "2021-09-04T11:43:22.521322Z",
     "shell.execute_reply": "2021-09-04T11:43:22.520680Z",
     "shell.execute_reply.started": "2021-09-04T11:41:45.892202Z"
    },
    "papermill": {
     "duration": 1.182531,
     "end_time": "2021-09-04T11:43:22.521537",
     "exception": false,
     "start_time": "2021-09-04T11:43:21.339006",
     "status": "completed"
    },
    "tags": []
   },
   "outputs": [],
   "source": [
    "import numpy as np\n",
    "import pandas as pd\n",
    "from sklearn.preprocessing import LabelEncoder\n",
    "from sklearn.preprocessing import MinMaxScaler\n",
    "from sklearn.model_selection import train_test_split\n",
    "from sklearn.ensemble import RandomForestRegressor\n",
    "from sklearn.tree import DecisionTreeRegressor\n",
    "from sklearn.svm import SVR\n",
    "from sklearn.linear_model import LinearRegression\n",
    "from sklearn.metrics import  mean_squared_error\n"
   ]
  },
  {
   "cell_type": "code",
   "execution_count": 2,
   "id": "db1d3ae1",
   "metadata": {
    "execution": {
     "iopub.execute_input": "2021-09-04T11:43:22.562873Z",
     "iopub.status.busy": "2021-09-04T11:43:22.562201Z",
     "iopub.status.idle": "2021-09-04T11:43:22.641886Z",
     "shell.execute_reply": "2021-09-04T11:43:22.641115Z",
     "shell.execute_reply.started": "2021-09-04T11:24:17.280926Z"
    },
    "papermill": {
     "duration": 0.101826,
     "end_time": "2021-09-04T11:43:22.642096",
     "exception": false,
     "start_time": "2021-09-04T11:43:22.540270",
     "status": "completed"
    },
    "tags": []
   },
   "outputs": [
    {
     "data": {
      "text/html": [
       "<div>\n",
       "<style scoped>\n",
       "    .dataframe tbody tr th:only-of-type {\n",
       "        vertical-align: middle;\n",
       "    }\n",
       "\n",
       "    .dataframe tbody tr th {\n",
       "        vertical-align: top;\n",
       "    }\n",
       "\n",
       "    .dataframe thead th {\n",
       "        text-align: right;\n",
       "    }\n",
       "</style>\n",
       "<table border=\"1\" class=\"dataframe\">\n",
       "  <thead>\n",
       "    <tr style=\"text-align: right;\">\n",
       "      <th></th>\n",
       "      <th>model</th>\n",
       "      <th>year</th>\n",
       "      <th>price</th>\n",
       "      <th>transmission</th>\n",
       "      <th>mileage</th>\n",
       "      <th>fuelType</th>\n",
       "      <th>tax</th>\n",
       "      <th>mpg</th>\n",
       "      <th>engineSize</th>\n",
       "    </tr>\n",
       "  </thead>\n",
       "  <tbody>\n",
       "    <tr>\n",
       "      <th>0</th>\n",
       "      <td>Fiesta</td>\n",
       "      <td>2017</td>\n",
       "      <td>12000</td>\n",
       "      <td>Automatic</td>\n",
       "      <td>15944</td>\n",
       "      <td>Petrol</td>\n",
       "      <td>150</td>\n",
       "      <td>57.7</td>\n",
       "      <td>1.0</td>\n",
       "    </tr>\n",
       "    <tr>\n",
       "      <th>1</th>\n",
       "      <td>Focus</td>\n",
       "      <td>2018</td>\n",
       "      <td>14000</td>\n",
       "      <td>Manual</td>\n",
       "      <td>9083</td>\n",
       "      <td>Petrol</td>\n",
       "      <td>150</td>\n",
       "      <td>57.7</td>\n",
       "      <td>1.0</td>\n",
       "    </tr>\n",
       "    <tr>\n",
       "      <th>2</th>\n",
       "      <td>Focus</td>\n",
       "      <td>2017</td>\n",
       "      <td>13000</td>\n",
       "      <td>Manual</td>\n",
       "      <td>12456</td>\n",
       "      <td>Petrol</td>\n",
       "      <td>150</td>\n",
       "      <td>57.7</td>\n",
       "      <td>1.0</td>\n",
       "    </tr>\n",
       "    <tr>\n",
       "      <th>3</th>\n",
       "      <td>Fiesta</td>\n",
       "      <td>2019</td>\n",
       "      <td>17500</td>\n",
       "      <td>Manual</td>\n",
       "      <td>10460</td>\n",
       "      <td>Petrol</td>\n",
       "      <td>145</td>\n",
       "      <td>40.3</td>\n",
       "      <td>1.5</td>\n",
       "    </tr>\n",
       "    <tr>\n",
       "      <th>4</th>\n",
       "      <td>Fiesta</td>\n",
       "      <td>2019</td>\n",
       "      <td>16500</td>\n",
       "      <td>Automatic</td>\n",
       "      <td>1482</td>\n",
       "      <td>Petrol</td>\n",
       "      <td>145</td>\n",
       "      <td>48.7</td>\n",
       "      <td>1.0</td>\n",
       "    </tr>\n",
       "  </tbody>\n",
       "</table>\n",
       "</div>"
      ],
      "text/plain": [
       "     model  year  price transmission  mileage fuelType  tax   mpg  engineSize\n",
       "0   Fiesta  2017  12000    Automatic    15944   Petrol  150  57.7         1.0\n",
       "1    Focus  2018  14000       Manual     9083   Petrol  150  57.7         1.0\n",
       "2    Focus  2017  13000       Manual    12456   Petrol  150  57.7         1.0\n",
       "3   Fiesta  2019  17500       Manual    10460   Petrol  145  40.3         1.5\n",
       "4   Fiesta  2019  16500    Automatic     1482   Petrol  145  48.7         1.0"
      ]
     },
     "execution_count": 2,
     "metadata": {},
     "output_type": "execute_result"
    }
   ],
   "source": [
    "ford=pd.read_csv(\"../input/used-car-dataset-ford-and-mercedes/ford.csv\")\n",
    "ford.head()"
   ]
  },
  {
   "cell_type": "code",
   "execution_count": 3,
   "id": "b952eafc",
   "metadata": {
    "execution": {
     "iopub.execute_input": "2021-09-04T11:43:22.707903Z",
     "iopub.status.busy": "2021-09-04T11:43:22.707212Z",
     "iopub.status.idle": "2021-09-04T11:43:22.714905Z",
     "shell.execute_reply": "2021-09-04T11:43:22.715397Z",
     "shell.execute_reply.started": "2021-09-04T11:24:38.577238Z"
    },
    "papermill": {
     "duration": 0.048082,
     "end_time": "2021-09-04T11:43:22.715618",
     "exception": false,
     "start_time": "2021-09-04T11:43:22.667536",
     "status": "completed"
    },
    "tags": []
   },
   "outputs": [
    {
     "data": {
      "text/plain": [
       "model           0\n",
       "year            0\n",
       "price           0\n",
       "transmission    0\n",
       "mileage         0\n",
       "fuelType        0\n",
       "tax             0\n",
       "mpg             0\n",
       "engineSize      0\n",
       "dtype: int64"
      ]
     },
     "execution_count": 3,
     "metadata": {},
     "output_type": "execute_result"
    }
   ],
   "source": [
    "ford.isnull().sum()"
   ]
  },
  {
   "cell_type": "code",
   "execution_count": 4,
   "id": "fd8f8bbe",
   "metadata": {
    "execution": {
     "iopub.execute_input": "2021-09-04T11:43:22.762243Z",
     "iopub.status.busy": "2021-09-04T11:43:22.761638Z",
     "iopub.status.idle": "2021-09-04T11:43:22.765528Z",
     "shell.execute_reply": "2021-09-04T11:43:22.764865Z",
     "shell.execute_reply.started": "2021-09-04T11:24:44.887495Z"
    },
    "papermill": {
     "duration": 0.027725,
     "end_time": "2021-09-04T11:43:22.765662",
     "exception": false,
     "start_time": "2021-09-04T11:43:22.737937",
     "status": "completed"
    },
    "tags": []
   },
   "outputs": [
    {
     "data": {
      "text/plain": [
       "(17965, 9)"
      ]
     },
     "execution_count": 4,
     "metadata": {},
     "output_type": "execute_result"
    }
   ],
   "source": [
    "ford.shape"
   ]
  },
  {
   "cell_type": "code",
   "execution_count": 5,
   "id": "55b035e9",
   "metadata": {
    "execution": {
     "iopub.execute_input": "2021-09-04T11:43:22.809895Z",
     "iopub.status.busy": "2021-09-04T11:43:22.809211Z",
     "iopub.status.idle": "2021-09-04T11:43:22.821062Z",
     "shell.execute_reply": "2021-09-04T11:43:22.820488Z",
     "shell.execute_reply.started": "2021-09-04T11:24:57.400748Z"
    },
    "papermill": {
     "duration": 0.036036,
     "end_time": "2021-09-04T11:43:22.821191",
     "exception": false,
     "start_time": "2021-09-04T11:43:22.785155",
     "status": "completed"
    },
    "tags": []
   },
   "outputs": [
    {
     "data": {
      "text/plain": [
       "<bound method DataFrame.info of          model  year  price transmission  mileage fuelType  tax   mpg  \\\n",
       "0       Fiesta  2017  12000    Automatic    15944   Petrol  150  57.7   \n",
       "1        Focus  2018  14000       Manual     9083   Petrol  150  57.7   \n",
       "2        Focus  2017  13000       Manual    12456   Petrol  150  57.7   \n",
       "3       Fiesta  2019  17500       Manual    10460   Petrol  145  40.3   \n",
       "4       Fiesta  2019  16500    Automatic     1482   Petrol  145  48.7   \n",
       "...        ...   ...    ...          ...      ...      ...  ...   ...   \n",
       "17960   Fiesta  2016   7999       Manual    31348   Petrol  125  54.3   \n",
       "17961    B-MAX  2017   8999       Manual    16700   Petrol  150  47.1   \n",
       "17962    B-MAX  2014   7499       Manual    40700   Petrol   30  57.7   \n",
       "17963    Focus  2015   9999       Manual     7010   Diesel   20  67.3   \n",
       "17964       KA  2018   8299       Manual     5007   Petrol  145  57.7   \n",
       "\n",
       "       engineSize  \n",
       "0             1.0  \n",
       "1             1.0  \n",
       "2             1.0  \n",
       "3             1.5  \n",
       "4             1.0  \n",
       "...           ...  \n",
       "17960         1.2  \n",
       "17961         1.4  \n",
       "17962         1.0  \n",
       "17963         1.6  \n",
       "17964         1.2  \n",
       "\n",
       "[17965 rows x 9 columns]>"
      ]
     },
     "execution_count": 5,
     "metadata": {},
     "output_type": "execute_result"
    }
   ],
   "source": [
    "ford.info"
   ]
  },
  {
   "cell_type": "code",
   "execution_count": 6,
   "id": "736690a2",
   "metadata": {
    "execution": {
     "iopub.execute_input": "2021-09-04T11:43:22.874314Z",
     "iopub.status.busy": "2021-09-04T11:43:22.873552Z",
     "iopub.status.idle": "2021-09-04T11:43:22.877533Z",
     "shell.execute_reply": "2021-09-04T11:43:22.877039Z",
     "shell.execute_reply.started": "2021-09-04T11:25:06.210010Z"
    },
    "papermill": {
     "duration": 0.036806,
     "end_time": "2021-09-04T11:43:22.877666",
     "exception": false,
     "start_time": "2021-09-04T11:43:22.840860",
     "status": "completed"
    },
    "tags": []
   },
   "outputs": [
    {
     "data": {
      "text/plain": [
       "<bound method NDFrame.describe of          model  year  price transmission  mileage fuelType  tax   mpg  \\\n",
       "0       Fiesta  2017  12000    Automatic    15944   Petrol  150  57.7   \n",
       "1        Focus  2018  14000       Manual     9083   Petrol  150  57.7   \n",
       "2        Focus  2017  13000       Manual    12456   Petrol  150  57.7   \n",
       "3       Fiesta  2019  17500       Manual    10460   Petrol  145  40.3   \n",
       "4       Fiesta  2019  16500    Automatic     1482   Petrol  145  48.7   \n",
       "...        ...   ...    ...          ...      ...      ...  ...   ...   \n",
       "17960   Fiesta  2016   7999       Manual    31348   Petrol  125  54.3   \n",
       "17961    B-MAX  2017   8999       Manual    16700   Petrol  150  47.1   \n",
       "17962    B-MAX  2014   7499       Manual    40700   Petrol   30  57.7   \n",
       "17963    Focus  2015   9999       Manual     7010   Diesel   20  67.3   \n",
       "17964       KA  2018   8299       Manual     5007   Petrol  145  57.7   \n",
       "\n",
       "       engineSize  \n",
       "0             1.0  \n",
       "1             1.0  \n",
       "2             1.0  \n",
       "3             1.5  \n",
       "4             1.0  \n",
       "...           ...  \n",
       "17960         1.2  \n",
       "17961         1.4  \n",
       "17962         1.0  \n",
       "17963         1.6  \n",
       "17964         1.2  \n",
       "\n",
       "[17965 rows x 9 columns]>"
      ]
     },
     "execution_count": 6,
     "metadata": {},
     "output_type": "execute_result"
    }
   ],
   "source": [
    "ford.describe"
   ]
  },
  {
   "cell_type": "code",
   "execution_count": 7,
   "id": "366f55d2",
   "metadata": {
    "execution": {
     "iopub.execute_input": "2021-09-04T11:43:22.921439Z",
     "iopub.status.busy": "2021-09-04T11:43:22.920783Z",
     "iopub.status.idle": "2021-09-04T11:43:22.936531Z",
     "shell.execute_reply": "2021-09-04T11:43:22.936023Z",
     "shell.execute_reply.started": "2021-09-04T11:29:55.657347Z"
    },
    "papermill": {
     "duration": 0.038556,
     "end_time": "2021-09-04T11:43:22.936686",
     "exception": false,
     "start_time": "2021-09-04T11:43:22.898130",
     "status": "completed"
    },
    "tags": []
   },
   "outputs": [
    {
     "data": {
      "text/plain": [
       "{0: ' B-MAX',\n",
       " 1: ' C-MAX',\n",
       " 2: ' EcoSport',\n",
       " 3: ' Edge',\n",
       " 4: ' Escort',\n",
       " 5: ' Fiesta',\n",
       " 6: ' Focus',\n",
       " 7: ' Fusion',\n",
       " 8: ' Galaxy',\n",
       " 9: ' Grand C-MAX',\n",
       " 10: ' Grand Tourneo Connect',\n",
       " 11: ' KA',\n",
       " 12: ' Ka+',\n",
       " 13: ' Kuga',\n",
       " 14: ' Mondeo',\n",
       " 15: ' Mustang',\n",
       " 16: ' Puma',\n",
       " 17: ' Ranger',\n",
       " 18: ' S-MAX',\n",
       " 19: ' Streetka',\n",
       " 20: ' Tourneo Connect',\n",
       " 21: ' Tourneo Custom',\n",
       " 22: ' Transit Tourneo'}"
      ]
     },
     "execution_count": 7,
     "metadata": {},
     "output_type": "execute_result"
    }
   ],
   "source": [
    "encoder = LabelEncoder()\n",
    "ford['model'] = encoder.fit_transform(ford['model'])\n",
    "model_mapping = {index : label for index, label in enumerate(encoder.classes_)}\n",
    "model_mapping"
   ]
  },
  {
   "cell_type": "code",
   "execution_count": 8,
   "id": "706f4801",
   "metadata": {
    "execution": {
     "iopub.execute_input": "2021-09-04T11:43:22.991083Z",
     "iopub.status.busy": "2021-09-04T11:43:22.990210Z",
     "iopub.status.idle": "2021-09-04T11:43:22.994039Z",
     "shell.execute_reply": "2021-09-04T11:43:22.994495Z",
     "shell.execute_reply.started": "2021-09-04T11:30:16.109696Z"
    },
    "papermill": {
     "duration": 0.037416,
     "end_time": "2021-09-04T11:43:22.994663",
     "exception": false,
     "start_time": "2021-09-04T11:43:22.957247",
     "status": "completed"
    },
    "tags": []
   },
   "outputs": [
    {
     "data": {
      "text/plain": [
       "{0: 'Automatic', 1: 'Manual', 2: 'Semi-Auto'}"
      ]
     },
     "execution_count": 8,
     "metadata": {},
     "output_type": "execute_result"
    }
   ],
   "source": [
    "ford['transmission'] = encoder.fit_transform(ford['transmission'])\n",
    "transmission_mapping = {index : label for index, label in enumerate(encoder.classes_)}\n",
    "transmission_mapping"
   ]
  },
  {
   "cell_type": "code",
   "execution_count": 9,
   "id": "2c9d0666",
   "metadata": {
    "execution": {
     "iopub.execute_input": "2021-09-04T11:43:23.048735Z",
     "iopub.status.busy": "2021-09-04T11:43:23.048115Z",
     "iopub.status.idle": "2021-09-04T11:43:23.050869Z",
     "shell.execute_reply": "2021-09-04T11:43:23.051505Z",
     "shell.execute_reply.started": "2021-09-04T11:30:33.632000Z"
    },
    "papermill": {
     "duration": 0.036361,
     "end_time": "2021-09-04T11:43:23.051672",
     "exception": false,
     "start_time": "2021-09-04T11:43:23.015311",
     "status": "completed"
    },
    "tags": []
   },
   "outputs": [
    {
     "data": {
      "text/plain": [
       "{0: 'Diesel', 1: 'Electric', 2: 'Hybrid', 3: 'Other', 4: 'Petrol'}"
      ]
     },
     "execution_count": 9,
     "metadata": {},
     "output_type": "execute_result"
    }
   ],
   "source": [
    "ford['fuelType'] = encoder.fit_transform(ford['fuelType'])\n",
    "fuelType_mapping = {index : label for index, label in enumerate(encoder.classes_)}\n",
    "fuelType_mapping"
   ]
  },
  {
   "cell_type": "code",
   "execution_count": 10,
   "id": "f7bf7020",
   "metadata": {
    "execution": {
     "iopub.execute_input": "2021-09-04T11:43:23.096471Z",
     "iopub.status.busy": "2021-09-04T11:43:23.095842Z",
     "iopub.status.idle": "2021-09-04T11:43:23.102618Z",
     "shell.execute_reply": "2021-09-04T11:43:23.103114Z",
     "shell.execute_reply.started": "2021-09-04T11:30:56.571744Z"
    },
    "papermill": {
     "duration": 0.030846,
     "end_time": "2021-09-04T11:43:23.103287",
     "exception": false,
     "start_time": "2021-09-04T11:43:23.072441",
     "status": "completed"
    },
    "tags": []
   },
   "outputs": [],
   "source": [
    "x = ford.drop('price', axis=1)\n",
    "y = ford['price']"
   ]
  },
  {
   "cell_type": "code",
   "execution_count": 11,
   "id": "f2e15edc",
   "metadata": {
    "execution": {
     "iopub.execute_input": "2021-09-04T11:43:23.148515Z",
     "iopub.status.busy": "2021-09-04T11:43:23.147834Z",
     "iopub.status.idle": "2021-09-04T11:43:23.163894Z",
     "shell.execute_reply": "2021-09-04T11:43:23.163260Z",
     "shell.execute_reply.started": "2021-09-04T11:31:32.652601Z"
    },
    "papermill": {
     "duration": 0.039389,
     "end_time": "2021-09-04T11:43:23.164021",
     "exception": false,
     "start_time": "2021-09-04T11:43:23.124632",
     "status": "completed"
    },
    "tags": []
   },
   "outputs": [
    {
     "name": "stdout",
     "output_type": "stream",
     "text": [
      "x \n",
      " [[0.22727273 0.328125   0.         0.08974741 1.         0.25862069\n",
      "  0.2038674  0.2       ]\n",
      " [0.27272727 0.34375    0.5        0.05112501 1.         0.25862069\n",
      "  0.2038674  0.2       ]\n",
      " [0.27272727 0.328125   0.5        0.07011253 1.         0.25862069\n",
      "  0.2038674  0.2       ]\n",
      " [0.22727273 0.359375   0.5        0.05887651 1.         0.25\n",
      "  0.10773481 0.3       ]\n",
      " [0.22727273 0.359375   0.         0.00833695 1.         0.25\n",
      "  0.15414365 0.2       ]\n",
      " [0.22727273 0.296875   0.5        0.19945058 1.         0.25\n",
      "  0.14972376 0.32      ]\n",
      " [0.72727273 0.359375   0.5        0.01141615 1.         0.25\n",
      "  0.16353591 0.2       ]\n",
      " [0.22727273 0.328125   0.5        0.07347883 1.         0.25\n",
      "  0.18508287 0.24      ]\n",
      " [0.59090909 0.359375   0.         0.03880254 0.         0.25\n",
      "  0.11823204 0.4       ]\n",
      " [0.27272727 0.34375    0.5        0.27099295 1.         0.25\n",
      "  0.22430939 0.2       ]]\n",
      "y \n",
      " 0    12000\n",
      "1    14000\n",
      "2    13000\n",
      "3    17500\n",
      "4    16500\n",
      "5    10500\n",
      "6    22500\n",
      "7     9000\n",
      "8    25500\n",
      "9    10000\n",
      "Name: price, dtype: int64\n"
     ]
    }
   ],
   "source": [
    "scaler = MinMaxScaler(copy=True, feature_range=(0, 1))\n",
    "X = scaler.fit_transform(x)\n",
    "\n",
    "#showing data\n",
    "print('x \\n' , X[:10])\n",
    "print('y \\n' , y[:10])"
   ]
  },
  {
   "cell_type": "code",
   "execution_count": 12,
   "id": "f50156cc",
   "metadata": {
    "execution": {
     "iopub.execute_input": "2021-09-04T11:43:23.213246Z",
     "iopub.status.busy": "2021-09-04T11:43:23.212637Z",
     "iopub.status.idle": "2021-09-04T11:43:23.219498Z",
     "shell.execute_reply": "2021-09-04T11:43:23.218889Z",
     "shell.execute_reply.started": "2021-09-04T11:32:12.896443Z"
    },
    "papermill": {
     "duration": 0.034122,
     "end_time": "2021-09-04T11:43:23.219630",
     "exception": false,
     "start_time": "2021-09-04T11:43:23.185508",
     "status": "completed"
    },
    "tags": []
   },
   "outputs": [],
   "source": [
    "x_train,x_test,y_train,y_test=train_test_split(x,y,test_size=30,random_state=0)"
   ]
  },
  {
   "cell_type": "code",
   "execution_count": 13,
   "id": "a678e144",
   "metadata": {
    "execution": {
     "iopub.execute_input": "2021-09-04T11:43:23.267174Z",
     "iopub.status.busy": "2021-09-04T11:43:23.266569Z",
     "iopub.status.idle": "2021-09-04T11:43:23.270900Z",
     "shell.execute_reply": "2021-09-04T11:43:23.270299Z",
     "shell.execute_reply.started": "2021-09-04T11:32:19.816129Z"
    },
    "papermill": {
     "duration": 0.029488,
     "end_time": "2021-09-04T11:43:23.271029",
     "exception": false,
     "start_time": "2021-09-04T11:43:23.241541",
     "status": "completed"
    },
    "tags": []
   },
   "outputs": [
    {
     "name": "stdout",
     "output_type": "stream",
     "text": [
      "x_train shape is: (17935, 8)\n"
     ]
    }
   ],
   "source": [
    "print(\"x_train shape is:\",x_train.shape)\n"
   ]
  },
  {
   "cell_type": "code",
   "execution_count": 14,
   "id": "8b856d77",
   "metadata": {
    "execution": {
     "iopub.execute_input": "2021-09-04T11:43:23.320044Z",
     "iopub.status.busy": "2021-09-04T11:43:23.319404Z",
     "iopub.status.idle": "2021-09-04T11:43:23.324196Z",
     "shell.execute_reply": "2021-09-04T11:43:23.323563Z",
     "shell.execute_reply.started": "2021-09-04T11:32:26.878173Z"
    },
    "papermill": {
     "duration": 0.030919,
     "end_time": "2021-09-04T11:43:23.324336",
     "exception": false,
     "start_time": "2021-09-04T11:43:23.293417",
     "status": "completed"
    },
    "tags": []
   },
   "outputs": [
    {
     "name": "stdout",
     "output_type": "stream",
     "text": [
      "x_test shape is: (30, 8)\n"
     ]
    }
   ],
   "source": [
    "print(\"x_test shape is:\",x_test.shape)\n"
   ]
  },
  {
   "cell_type": "code",
   "execution_count": 15,
   "id": "e6495383",
   "metadata": {
    "execution": {
     "iopub.execute_input": "2021-09-04T11:43:23.374126Z",
     "iopub.status.busy": "2021-09-04T11:43:23.373406Z",
     "iopub.status.idle": "2021-09-04T11:43:23.376541Z",
     "shell.execute_reply": "2021-09-04T11:43:23.377353Z",
     "shell.execute_reply.started": "2021-09-04T11:32:33.151800Z"
    },
    "papermill": {
     "duration": 0.031069,
     "end_time": "2021-09-04T11:43:23.377566",
     "exception": false,
     "start_time": "2021-09-04T11:43:23.346497",
     "status": "completed"
    },
    "tags": []
   },
   "outputs": [
    {
     "name": "stdout",
     "output_type": "stream",
     "text": [
      "y_train shape is: (17935,)\n"
     ]
    }
   ],
   "source": [
    "print(\"y_train shape is:\",y_train.shape)\n"
   ]
  },
  {
   "cell_type": "code",
   "execution_count": 16,
   "id": "2c54a3b3",
   "metadata": {
    "execution": {
     "iopub.execute_input": "2021-09-04T11:43:23.428545Z",
     "iopub.status.busy": "2021-09-04T11:43:23.427794Z",
     "iopub.status.idle": "2021-09-04T11:43:23.431125Z",
     "shell.execute_reply": "2021-09-04T11:43:23.431610Z",
     "shell.execute_reply.started": "2021-09-04T11:32:41.881885Z"
    },
    "papermill": {
     "duration": 0.030639,
     "end_time": "2021-09-04T11:43:23.431777",
     "exception": false,
     "start_time": "2021-09-04T11:43:23.401138",
     "status": "completed"
    },
    "tags": []
   },
   "outputs": [
    {
     "name": "stdout",
     "output_type": "stream",
     "text": [
      "y_test shape is: (30,)\n"
     ]
    }
   ],
   "source": [
    "print(\"y_test shape is:\",y_test.shape)\n"
   ]
  },
  {
   "cell_type": "code",
   "execution_count": 17,
   "id": "cb2213e1",
   "metadata": {
    "execution": {
     "iopub.execute_input": "2021-09-04T11:43:23.486119Z",
     "iopub.status.busy": "2021-09-04T11:43:23.485438Z",
     "iopub.status.idle": "2021-09-04T11:43:27.525694Z",
     "shell.execute_reply": "2021-09-04T11:43:27.526166Z",
     "shell.execute_reply.started": "2021-09-04T11:36:32.246393Z"
    },
    "papermill": {
     "duration": 4.071774,
     "end_time": "2021-09-04T11:43:27.526357",
     "exception": false,
     "start_time": "2021-09-04T11:43:23.454583",
     "status": "completed"
    },
    "tags": []
   },
   "outputs": [
    {
     "name": "stdout",
     "output_type": "stream",
     "text": [
      "Random Forest Regressor Train Score is :  0.9749391820506049\n",
      "Random Forest Regressor Test Score is :  0.9214919738539804\n",
      "Random Forest Regressor No. of features are :  8\n",
      "----------------------------------------------------\n",
      "Predicted Value for Random Forest Regressor is :  [11334.31777603 10642.60740943 10811.5424721  16152.32719608\n",
      " 17631.76291056 11620.15501238  6755.26492744 21894.41440559\n",
      "  8349.49931644 21777.11363636]\n"
     ]
    }
   ],
   "source": [
    "RandomForestRegressorModel = RandomForestRegressor(n_estimators=100,max_depth=15, random_state=33)\n",
    "RandomForestRegressorModel.fit(x_train, y_train)\n",
    "\n",
    "print('Random Forest Regressor Train Score is : ' , RandomForestRegressorModel.score(x_train, y_train))\n",
    "print('Random Forest Regressor Test Score is : ' , RandomForestRegressorModel.score(x_test, y_test))\n",
    "print('Random Forest Regressor No. of features are : ' , RandomForestRegressorModel.n_features_)\n",
    "print('----------------------------------------------------')\n",
    "\n",
    "y_pred = RandomForestRegressorModel.predict(x_test)\n",
    "print('Predicted Value for Random Forest Regressor is : ' , y_pred[:10])"
   ]
  },
  {
   "cell_type": "code",
   "execution_count": 18,
   "id": "291de665",
   "metadata": {
    "execution": {
     "iopub.execute_input": "2021-09-04T11:43:27.581657Z",
     "iopub.status.busy": "2021-09-04T11:43:27.580988Z",
     "iopub.status.idle": "2021-09-04T11:43:27.651968Z",
     "shell.execute_reply": "2021-09-04T11:43:27.652532Z",
     "shell.execute_reply.started": "2021-09-04T11:37:51.688161Z"
    },
    "papermill": {
     "duration": 0.10311,
     "end_time": "2021-09-04T11:43:27.652711",
     "exception": false,
     "start_time": "2021-09-04T11:43:27.549601",
     "status": "completed"
    },
    "tags": []
   },
   "outputs": [
    {
     "name": "stdout",
     "output_type": "stream",
     "text": [
      "DecisionTreeRegressor Train Score is :  0.9755296904461722\n",
      "DecisionTreeRegressor Test Score is :  0.8995747621103771\n",
      "----------------------------------------------------\n",
      "Predicted Value for DecisionTreeRegressorModel is :  [11388.18       10617.72680412 10825.36363636 16283.3\n",
      " 16792.2745098  11700.69620253  6481.06976744 20700.\n",
      "  8750.         22980.        ]\n"
     ]
    }
   ],
   "source": [
    "DecisionTreeRegressorModel = DecisionTreeRegressor( max_depth=15,random_state=33)\n",
    "DecisionTreeRegressorModel.fit(x_train, y_train)\n",
    "\n",
    "print('DecisionTreeRegressor Train Score is : ' , DecisionTreeRegressorModel.score(x_train, y_train))\n",
    "print('DecisionTreeRegressor Test Score is : ' , DecisionTreeRegressorModel.score(x_test, y_test))\n",
    "print('----------------------------------------------------')\n",
    "y_pred = DecisionTreeRegressorModel.predict(x_test)\n",
    "print('Predicted Value for DecisionTreeRegressorModel is : ' , y_pred[:10])"
   ]
  },
  {
   "cell_type": "code",
   "execution_count": 19,
   "id": "83ddc8d8",
   "metadata": {
    "execution": {
     "iopub.execute_input": "2021-09-04T11:43:27.709216Z",
     "iopub.status.busy": "2021-09-04T11:43:27.708520Z",
     "iopub.status.idle": "2021-09-04T11:44:02.603475Z",
     "shell.execute_reply": "2021-09-04T11:44:02.604002Z",
     "shell.execute_reply.started": "2021-09-04T11:39:04.371209Z"
    },
    "papermill": {
     "duration": 34.926452,
     "end_time": "2021-09-04T11:44:02.604169",
     "exception": false,
     "start_time": "2021-09-04T11:43:27.677717",
     "status": "completed"
    },
    "tags": []
   },
   "outputs": [
    {
     "name": "stdout",
     "output_type": "stream",
     "text": [
      "SVRModel Train Score is :  0.12627408257259964\n",
      "SVRModel Test Score is :  0.052310317918961124\n",
      "----------------------------------------------------\n",
      "Predicted Value for SVRModel is :  [10770.47774214 10284.14414468  9800.67407962 10594.85592091\n",
      " 11085.37102453 12279.70219928  9718.08658866 12453.30736051\n",
      " 12230.51578524 12425.55686175]\n"
     ]
    }
   ],
   "source": [
    "SVRModel = SVR(C = 1.0 ,epsilon=0.1,kernel = 'rbf') # it also can be : linear, poly, rbf, sigmoid, precomputed\n",
    "SVRModel.fit(x_train, y_train)\n",
    "\n",
    "print('SVRModel Train Score is : ' , SVRModel.score(x_train, y_train))\n",
    "print('SVRModel Test Score is : ' , SVRModel.score(x_test, y_test))\n",
    "print('----------------------------------------------------')\n",
    "\n",
    "y_pred = SVRModel.predict(x_test)\n",
    "print('Predicted Value for SVRModel is : ' , y_pred[:10])"
   ]
  },
  {
   "cell_type": "code",
   "execution_count": 20,
   "id": "39d9a6d4",
   "metadata": {
    "execution": {
     "iopub.execute_input": "2021-09-04T11:44:02.660814Z",
     "iopub.status.busy": "2021-09-04T11:44:02.659650Z",
     "iopub.status.idle": "2021-09-04T11:44:02.830779Z",
     "shell.execute_reply": "2021-09-04T11:44:02.832095Z",
     "shell.execute_reply.started": "2021-09-04T11:41:09.255679Z"
    },
    "papermill": {
     "duration": 0.204475,
     "end_time": "2021-09-04T11:44:02.832377",
     "exception": false,
     "start_time": "2021-09-04T11:44:02.627902",
     "status": "completed"
    },
    "tags": []
   },
   "outputs": [
    {
     "name": "stdout",
     "output_type": "stream",
     "text": [
      "Linear Regression Train Score is :  0.7346261189318064\n",
      "Linear Regression Test Score is :  0.7622031056783022\n",
      "Linear Regression Coef is :  [ 2.97885267e+01  1.16783293e+03 -2.64443190e+02 -6.28414477e-02\n",
      " -3.44180938e+02  1.15101098e+00 -1.09159728e+02  4.07803554e+03]\n",
      "Linear Regression intercept is :  -2339941.855351327\n",
      "----------------------------------------------------\n",
      "Predicted Value for Linear Regression is :  [11983.58318215 10270.43890697 12337.60418131 14515.14885408\n",
      " 16368.81161405 11160.28571656  7330.87454761 20510.24130607\n",
      " 13666.96274482 21764.84497335]\n"
     ]
    }
   ],
   "source": [
    "LinearRegressionModel = LinearRegression(fit_intercept=True, normalize=True,copy_X=True,n_jobs=-1)\n",
    "LinearRegressionModel.fit(x_train, y_train)\n",
    "\n",
    "print('Linear Regression Train Score is : ' , LinearRegressionModel.score(x_train, y_train))\n",
    "print('Linear Regression Test Score is : ' , LinearRegressionModel.score(x_test, y_test))\n",
    "print('Linear Regression Coef is : ' , LinearRegressionModel.coef_)\n",
    "print('Linear Regression intercept is : ' , LinearRegressionModel.intercept_)\n",
    "print('----------------------------------------------------')\n",
    "\n",
    "y_pred = LinearRegressionModel.predict(x_test)\n",
    "print('Predicted Value for Linear Regression is : ' , y_pred[:10])"
   ]
  },
  {
   "cell_type": "code",
   "execution_count": 21,
   "id": "493384f3",
   "metadata": {
    "execution": {
     "iopub.execute_input": "2021-09-04T11:44:02.929795Z",
     "iopub.status.busy": "2021-09-04T11:44:02.928025Z",
     "iopub.status.idle": "2021-09-04T11:44:02.932670Z",
     "shell.execute_reply": "2021-09-04T11:44:02.929022Z",
     "shell.execute_reply.started": "2021-09-04T11:41:57.379511Z"
    },
    "papermill": {
     "duration": 0.057948,
     "end_time": "2021-09-04T11:44:02.932869",
     "exception": false,
     "start_time": "2021-09-04T11:44:02.874921",
     "status": "completed"
    },
    "tags": []
   },
   "outputs": [
    {
     "name": "stdout",
     "output_type": "stream",
     "text": [
      "Mean Squared Error Value is :  6616677.054898866\n"
     ]
    }
   ],
   "source": [
    "MSEValue = mean_squared_error(y_test, y_pred, multioutput='uniform_average') # it can be raw_values\n",
    "print('Mean Squared Error Value is : ', MSEValue)"
   ]
  },
  {
   "cell_type": "code",
   "execution_count": null,
   "id": "c09df7b0",
   "metadata": {
    "papermill": {
     "duration": 0.023957,
     "end_time": "2021-09-04T11:44:02.981679",
     "exception": false,
     "start_time": "2021-09-04T11:44:02.957722",
     "status": "completed"
    },
    "tags": []
   },
   "outputs": [],
   "source": []
  }
 ],
 "metadata": {
  "kernelspec": {
   "display_name": "Python 3",
   "language": "python",
   "name": "python3"
  },
  "language_info": {
   "codemirror_mode": {
    "name": "ipython",
    "version": 3
   },
   "file_extension": ".py",
   "mimetype": "text/x-python",
   "name": "python",
   "nbconvert_exporter": "python",
   "pygments_lexer": "ipython3",
   "version": "3.7.10"
  },
  "papermill": {
   "default_parameters": {},
   "duration": 50.77639,
   "end_time": "2021-09-04T11:44:04.383269",
   "environment_variables": {},
   "exception": null,
   "input_path": "__notebook__.ipynb",
   "output_path": "__notebook__.ipynb",
   "parameters": {},
   "start_time": "2021-09-04T11:43:13.606879",
   "version": "2.3.3"
  }
 },
 "nbformat": 4,
 "nbformat_minor": 5
}
